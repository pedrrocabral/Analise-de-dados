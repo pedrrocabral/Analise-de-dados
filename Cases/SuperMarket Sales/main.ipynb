{
 "cells": [
  {
   "cell_type": "code",
   "execution_count": null,
   "metadata": {},
   "outputs": [],
   "source": [
    "import numpy as np\n",
    "import pandas as pd\n",
    "import matplotlib.pyplot as plt\n",
    "import seaborn as sns\n",
    "import warnings\n",
    "warnings.filterwarnings('ignore')"
   ]
  },
  {
   "cell_type": "code",
   "execution_count": null,
   "metadata": {},
   "outputs": [],
   "source": [
    "data = pd.read_csv(r'C:\\Cursos\\Analise_de_dados\\Cases\\SuperMarket Sales\\supermarket_sales - Sheet1.csv')"
   ]
  },
  {
   "cell_type": "code",
   "execution_count": null,
   "metadata": {},
   "outputs": [],
   "source": [
    "data.rename(columns={\n",
    "    'Invoice ID': 'Código do produto',\n",
    "    'Branch': 'Filial',\n",
    "    'City': 'Cidade',\n",
    "    'Gender': 'Gênero',\n",
    "    'Product line': 'Linha do produto',\n",
    "    'Unit price': 'Preço Unitário',\n",
    "    'Quantity': 'Quantidade',\n",
    "    'Tax 5%': 'Taxa de 5%',\n",
    "    'Total': 'Total da compra',\n",
    "    'Date': 'Data',\n",
    "    'Time': 'Horário',\n",
    "    'Payment': 'Tipo do pagamento',\n",
    "    'cogs': 'Custo bruto no valor total da venda',\n",
    "    'gross margin percentage': 'Porcentagem em cima do valor da venda',\n",
    "    'gross income': 'Lucro Bruto',\n",
    "    'Rating': 'Nota do cliente'\n",
    "    }, inplace=True)"
   ]
  },
  {
   "cell_type": "code",
   "execution_count": null,
   "metadata": {},
   "outputs": [],
   "source": [
    "# Quantidade de Vendas Por Filial\n",
    "analise_filial = data.groupby(by=['Filial']).sum()['Quantidade'].reset_index()\n",
    "analise_filial.sort_values('Quantidade', ascending=False).reset_index(drop=True)"
   ]
  },
  {
   "cell_type": "code",
   "execution_count": null,
   "metadata": {},
   "outputs": [],
   "source": [
    "analise = round((data['Filial'].value_counts(normalize=True) * 100), 2)\n",
    "plt.figure(figsize=(15, 10))\n",
    "plt.title('Vendas Por Filial', loc= 'center', color='white', size=30)\n",
    "plt.pie(\n",
    "    analise.head(),\n",
    "    labels=analise.index[:3],\n",
    "    shadow=True,\n",
    "    startangle=-20,\n",
    "    autopct='%.1f%%',\n",
    "    colors=['#F78181', '#5FB404', '#58ACFA'],\n",
    "    explode=(0.04, 0.04, 0.04),\n",
    "    textprops={'color': 'w', 'size': 25})\n",
    "plt.show()\n"
   ]
  },
  {
   "cell_type": "code",
   "execution_count": null,
   "metadata": {},
   "outputs": [],
   "source": [
    "# Quantidade de Vendas e Valor Arrecadado Por Linha de Produto\n",
    "data['Total da compra'] = pd.to_numeric(data['Total da compra'].apply(lambda line: round(line, 2)))\n",
    "analise_genero = data.groupby(by=['Linha do produto']).sum()\n",
    "analise_genero.loc[:, ('Quantidade', 'Total da compra')]"
   ]
  },
  {
   "cell_type": "code",
   "execution_count": null,
   "metadata": {},
   "outputs": [],
   "source": [
    "# Quantidade de Vendas Por Linha do Produto/Gênero(F)\n",
    "analise_genero_f = data.groupby(by=['Linha do produto', 'Gênero']).sum()['Quantidade'].reset_index()\n",
    "analise_genero_f = analise_genero_f.loc[analise_genero_f['Gênero'] == 'Female'].sort_values('Quantidade', ascending=False).reset_index(drop=True)\n",
    "analise_genero_f"
   ]
  },
  {
   "cell_type": "code",
   "execution_count": null,
   "metadata": {},
   "outputs": [],
   "source": [
    "analise = round((analise_genero_f['Quantidade'] / analise_genero_f['Quantidade'].sum()) * 100, 2)\n",
    "plt.figure(figsize=(15, 10))\n",
    "plt.title('Vendas Para Mulheres Por Linha do Produto', loc= 'center', color='white', size=30)\n",
    "plt.pie(\n",
    "    analise.head(),\n",
    "    labels=analise_genero_f['Linha do produto'][:5],\n",
    "    shadow=True,\n",
    "    startangle=-20,\n",
    "    autopct='%.1f%%',\n",
    "    colors=['#F78181', '#5FB404', '#58ACFA'],\n",
    "    textprops={'color': 'w', 'size': 25})\n",
    "plt.show()"
   ]
  },
  {
   "cell_type": "code",
   "execution_count": null,
   "metadata": {},
   "outputs": [],
   "source": [
    "# Quantidade de Vendas Por Linha do Produto/Gênero(M)\n",
    "analise_genero_m = data.groupby(by=['Linha do produto', 'Gênero']).sum()['Quantidade'].reset_index()\n",
    "analise_genero_m = analise_genero_m.loc[analise_genero_m['Gênero'] == 'Male'].sort_values('Quantidade', ascending=False).reset_index(drop=True)\n",
    "analise_genero_m"
   ]
  },
  {
   "cell_type": "code",
   "execution_count": null,
   "metadata": {},
   "outputs": [],
   "source": [
    "analise = round((analise_genero_m['Quantidade'] / analise_genero_m['Quantidade'].sum()) * 100, 2)\n",
    "plt.figure(figsize=(15, 10))\n",
    "plt.title('Vendas Para Homens Por Linha do Produto', loc= 'center', color='white', size=30)\n",
    "plt.pie(\n",
    "    analise.head(),\n",
    "    labels=analise_genero_m['Linha do produto'][:5],\n",
    "    shadow=True,\n",
    "    startangle=-20,\n",
    "    autopct='%.1f%%',\n",
    "    colors=['#F78181', '#5FB404', '#58ACFA'],\n",
    "    textprops={'color': 'w', 'size': 25})\n",
    "plt.show()"
   ]
  },
  {
   "cell_type": "code",
   "execution_count": null,
   "metadata": {},
   "outputs": [],
   "source": [
    "# TOP 3 Linhas de Produtos Mais Vendidos Pela Filial A\n",
    "analise_filial_a = data.groupby(by=['Filial', 'Linha do produto']).sum()['Quantidade'].reset_index()\n",
    "analise_filial_a.loc[analise_filial_a['Filial'] == 'A'][:3].sort_values('Quantidade', ascending=False).reset_index(drop=True)"
   ]
  },
  {
   "cell_type": "code",
   "execution_count": null,
   "metadata": {},
   "outputs": [],
   "source": [
    "# TOP 3 Linhas de Produtos Mais Vendidos Pela Filial B\n",
    "analise_filial_b = data.groupby(by=['Filial', 'Linha do produto']).sum()['Quantidade'].reset_index()\n",
    "analise_filial_b.loc[analise_filial_b['Filial'] == 'B'][:3].sort_values('Quantidade', ascending=False).reset_index(drop=True,)"
   ]
  },
  {
   "cell_type": "code",
   "execution_count": null,
   "metadata": {},
   "outputs": [],
   "source": [
    "# TOP 3 Linhas de Produtos Mais Vendidos Pela Filial C\n",
    "analise_filial_c = data.groupby(by=['Filial', 'Linha do produto']).sum()['Quantidade'].reset_index()\n",
    "analise_filial_c.loc[analise_filial_c['Filial'] == 'C'][:3].sort_values('Quantidade', ascending=False).reset_index(drop=True)"
   ]
  },
  {
   "cell_type": "code",
   "execution_count": null,
   "metadata": {},
   "outputs": [],
   "source": [
    "# Compras Por Gênero\n",
    "analise_genero = data.groupby(by=['Gênero']).sum()['Quantidade'].reset_index()\n",
    "analise_genero.sort_values('Quantidade', ascending=False).reset_index(drop=True)"
   ]
  },
  {
   "cell_type": "code",
   "execution_count": null,
   "metadata": {},
   "outputs": [],
   "source": [
    "analise = round((data['Gênero'].value_counts(normalize=True) * 100), 2)\n",
    "plt.figure(figsize=(15, 10))\n",
    "plt.title('Vendas Por Gênero', loc= 'center', color='white', size=30)\n",
    "plt.pie(\n",
    "    analise.head(),\n",
    "    labels=analise.index,\n",
    "    shadow=True,\n",
    "    startangle=-50,\n",
    "    autopct='%.1f%%',\n",
    "    explode=(0.04, 0),\n",
    "    colors=['#F781F3', '#819FF7'],\n",
    "    textprops={'color': 'w', 'size': 25})\n",
    "plt.show()"
   ]
  },
  {
   "cell_type": "code",
   "execution_count": null,
   "metadata": {},
   "outputs": [],
   "source": [
    "# Quantidade de Vendas Por Gênero Mais Valor Arrecadado\n",
    "data['Total da compra'] = pd.to_numeric(data['Total da compra'].apply(lambda line: round(line, 2)))\n",
    "analise_genero = data.groupby(by=['Linha do produto', 'Gênero']).sum()\n",
    "analise_genero.loc[:, ('Quantidade', 'Total da compra')]"
   ]
  },
  {
   "cell_type": "code",
   "execution_count": null,
   "metadata": {},
   "outputs": [],
   "source": [
    "# Dias da Semana Com Mais Vendas\n",
    "data['Dia'] = pd.DatetimeIndex(data['Data']).strftime('%a')\n",
    "analise_semana = data.groupby(by=['Dia']).sum()['Quantidade'].reset_index()\n",
    "analise_semana.sort_values('Quantidade', ascending=False).reset_index(drop=True)"
   ]
  },
  {
   "cell_type": "code",
   "execution_count": null,
   "metadata": {},
   "outputs": [],
   "source": [
    "analise = round((data['Dia'].value_counts(normalize=True) * 100), 2)\n",
    "plt.figure(figsize=(15, 10))\n",
    "plt.title('Vendas Por Dia da Semana', loc= 'center', color='white', size=30)\n",
    "plt.pie(\n",
    "    analise.head(7),\n",
    "    labels=analise.index[:7],\n",
    "    shadow=True,\n",
    "    startangle=-50,\n",
    "    autopct='%.1f%%',\n",
    "    explode=(0.04, 0.04, 0.04, 0.04, 0.04, 0.04, 0.04),\n",
    "    textprops={'color': 'w', 'size': 25})\n",
    "plt.show()"
   ]
  },
  {
   "cell_type": "code",
   "execution_count": null,
   "metadata": {},
   "outputs": [],
   "source": [
    "# Horários do Dia Que Mais Vendem\n",
    "data['Hora'] = data['Horário'].apply(lambda line: str(line)[0:2])\n",
    "analise_hr = data.groupby(by=['Hora']).sum()['Quantidade'].reset_index()\n",
    "analise_hr.sort_values('Quantidade', ascending=False).reset_index(drop=True)"
   ]
  },
  {
   "cell_type": "code",
   "execution_count": null,
   "metadata": {},
   "outputs": [],
   "source": [
    "# Hora do Dia Que Mais Vende Por Dia da Semana\n",
    "data['Hora'] = data['Horário'].apply(lambda line: str(line)[0:2])\n",
    "analise_hr = data.groupby(by=['Dia', 'Hora']).sum()['Quantidade'].reset_index()\n",
    "filtro = analise_hr['Dia'] == 'Sat'\n",
    "print(analise_hr.loc[filtro].sort_values('Quantidade', ascending=False).reset_index(drop=True),'\\n\\n TOTAL DE VENDAS:', analise_hr.loc[filtro].sum()['Quantidade'])"
   ]
  },
  {
   "cell_type": "code",
   "execution_count": null,
   "metadata": {},
   "outputs": [],
   "source": [
    "# Turno Com Mais Vendas\n",
    "data['Turno'] = data['Horário'].apply(lambda line: 'Manhã 00:00 as 11:59' if line < '12:00' else 'Tarde/Noite 12:00 as 23:59')\n",
    "analise_hr = data.groupby(by=['Turno']).sum()['Quantidade'].reset_index()\n",
    "analise_hr.sort_values('Quantidade', ascending=False).reset_index(drop=True)"
   ]
  }
 ],
 "metadata": {
  "interpreter": {
   "hash": "8bebff10f57b9ed8edf244cd024b91b1cf1d5ea9e47fba0832a7f107465e3cbd"
  },
  "kernelspec": {
   "display_name": "Python 3.10.4 ('venv': venv)",
   "language": "python",
   "name": "python3"
  },
  "language_info": {
   "codemirror_mode": {
    "name": "ipython",
    "version": 3
   },
   "file_extension": ".py",
   "mimetype": "text/x-python",
   "name": "python",
   "nbconvert_exporter": "python",
   "pygments_lexer": "ipython3",
   "version": "3.10.4"
  },
  "orig_nbformat": 4
 },
 "nbformat": 4,
 "nbformat_minor": 2
}
