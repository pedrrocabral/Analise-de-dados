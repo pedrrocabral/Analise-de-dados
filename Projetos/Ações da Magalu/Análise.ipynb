{
 "cells": [
  {
   "cell_type": "code",
   "execution_count": 57,
   "metadata": {},
   "outputs": [],
   "source": [
    "# <--- IMPORTAÇÃO DAS BIBLIOTECAS\n",
    "import numpy as np\n",
    "import pandas as pd\n",
    "import matplotlib.pyplot as plt\n",
    "import plotly.graph_objects as go\n",
    "import seaborn as sns\n",
    "import warnings\n",
    "warnings.filterwarnings('ignore')\n",
    "# --->"
   ]
  },
  {
   "cell_type": "code",
   "execution_count": 58,
   "metadata": {},
   "outputs": [],
   "source": [
    "# <--- IMPORTAÇÃO DA BASE DE DADOS\n",
    "dados = pd.read_csv(r'C:\\Cursos\\Analise_de_dados\\Cases\\Ações da Magalu\\data\\Vase_004 - Magalu - Sem Resolução.xlsx - Tab_Dados.csv')\n",
    "# --->"
   ]
  },
  {
   "cell_type": "code",
   "execution_count": 59,
   "metadata": {},
   "outputs": [],
   "source": [
    "# <--- EDA: EXPLORATORY DATA ANALYSIS ( ANÁLISE EXPLORATÓRIA DE DADOS)\n",
    "#       Exploração da base de dados em busca de explorar detalhes ocultos na estrutura dos dados, \n",
    "#       identificar falhas ou comportamentos anormais, descobrir tendências e variáveis relevantes \n",
    "#       no conjunto."
   ]
  },
  {
   "cell_type": "code",
   "execution_count": 60,
   "metadata": {},
   "outputs": [
    {
     "data": {
      "text/plain": [
       "(247, 7)"
      ]
     },
     "execution_count": 60,
     "metadata": {},
     "output_type": "execute_result"
    }
   ],
   "source": [
    "# DIMENSÃO DOS DADOS\n",
    "dados.shape"
   ]
  },
  {
   "cell_type": "code",
   "execution_count": 61,
   "metadata": {},
   "outputs": [
    {
     "data": {
      "text/plain": [
       "Index(['Data', 'Maior', 'Menor', 'Abertura', 'Fechamento', 'Volume',\n",
       "       'Adj Close'],\n",
       "      dtype='object')"
      ]
     },
     "execution_count": 61,
     "metadata": {},
     "output_type": "execute_result"
    }
   ],
   "source": [
    "# NOMES DAS COLUNAS\n",
    "dados.columns"
   ]
  },
  {
   "cell_type": "code",
   "execution_count": 62,
   "metadata": {},
   "outputs": [
    {
     "data": {
      "text/html": [
       "<div>\n",
       "<style scoped>\n",
       "    .dataframe tbody tr th:only-of-type {\n",
       "        vertical-align: middle;\n",
       "    }\n",
       "\n",
       "    .dataframe tbody tr th {\n",
       "        vertical-align: top;\n",
       "    }\n",
       "\n",
       "    .dataframe thead th {\n",
       "        text-align: right;\n",
       "    }\n",
       "</style>\n",
       "<table border=\"1\" class=\"dataframe\">\n",
       "  <thead>\n",
       "    <tr style=\"text-align: right;\">\n",
       "      <th></th>\n",
       "      <th>Data</th>\n",
       "      <th>Maior</th>\n",
       "      <th>Menor</th>\n",
       "      <th>Abertura</th>\n",
       "      <th>Fechamento</th>\n",
       "      <th>Volume</th>\n",
       "      <th>Adj Close</th>\n",
       "    </tr>\n",
       "  </thead>\n",
       "  <tbody>\n",
       "    <tr>\n",
       "      <th>0</th>\n",
       "      <td>1/4/2021</td>\n",
       "      <td>25,58</td>\n",
       "      <td>24,87</td>\n",
       "      <td>25,26</td>\n",
       "      <td>25,20</td>\n",
       "      <td>25.706.100</td>\n",
       "      <td>25,18</td>\n",
       "    </tr>\n",
       "    <tr>\n",
       "      <th>1</th>\n",
       "      <td>1/5/2021</td>\n",
       "      <td>25,18</td>\n",
       "      <td>24,34</td>\n",
       "      <td>25,10</td>\n",
       "      <td>24,76</td>\n",
       "      <td>25.431.900</td>\n",
       "      <td>24,74</td>\n",
       "    </tr>\n",
       "    <tr>\n",
       "      <th>2</th>\n",
       "      <td>1/6/2021</td>\n",
       "      <td>24,66</td>\n",
       "      <td>23,42</td>\n",
       "      <td>24,65</td>\n",
       "      <td>23,46</td>\n",
       "      <td>51.799.000</td>\n",
       "      <td>23,44</td>\n",
       "    </tr>\n",
       "    <tr>\n",
       "      <th>3</th>\n",
       "      <td>1/7/2021</td>\n",
       "      <td>23,85</td>\n",
       "      <td>22,95</td>\n",
       "      <td>23,64</td>\n",
       "      <td>23,16</td>\n",
       "      <td>42.146.600</td>\n",
       "      <td>23,14</td>\n",
       "    </tr>\n",
       "    <tr>\n",
       "      <th>4</th>\n",
       "      <td>1/8/2021</td>\n",
       "      <td>24,30</td>\n",
       "      <td>23,02</td>\n",
       "      <td>23,19</td>\n",
       "      <td>23,84</td>\n",
       "      <td>43.988.100</td>\n",
       "      <td>23,82</td>\n",
       "    </tr>\n",
       "  </tbody>\n",
       "</table>\n",
       "</div>"
      ],
      "text/plain": [
       "       Data  Maior  Menor Abertura Fechamento      Volume Adj Close\n",
       "0  1/4/2021  25,58  24,87    25,26      25,20  25.706.100     25,18\n",
       "1  1/5/2021  25,18  24,34    25,10      24,76  25.431.900     24,74\n",
       "2  1/6/2021  24,66  23,42    24,65      23,46  51.799.000     23,44\n",
       "3  1/7/2021  23,85  22,95    23,64      23,16  42.146.600     23,14\n",
       "4  1/8/2021  24,30  23,02    23,19      23,84  43.988.100     23,82"
      ]
     },
     "execution_count": 62,
     "metadata": {},
     "output_type": "execute_result"
    }
   ],
   "source": [
    "# VISUALIZAÇÃO DOS DADOS\n",
    "dados.head()"
   ]
  },
  {
   "cell_type": "code",
   "execution_count": 63,
   "metadata": {},
   "outputs": [
    {
     "data": {
      "text/html": [
       "<div>\n",
       "<style scoped>\n",
       "    .dataframe tbody tr th:only-of-type {\n",
       "        vertical-align: middle;\n",
       "    }\n",
       "\n",
       "    .dataframe tbody tr th {\n",
       "        vertical-align: top;\n",
       "    }\n",
       "\n",
       "    .dataframe thead th {\n",
       "        text-align: right;\n",
       "    }\n",
       "</style>\n",
       "<table border=\"1\" class=\"dataframe\">\n",
       "  <thead>\n",
       "    <tr style=\"text-align: right;\">\n",
       "      <th></th>\n",
       "      <th>Data</th>\n",
       "      <th>Maior</th>\n",
       "      <th>Menor</th>\n",
       "      <th>Abertura</th>\n",
       "      <th>Fechamento</th>\n",
       "      <th>Volume</th>\n",
       "      <th>Adj Close</th>\n",
       "    </tr>\n",
       "  </thead>\n",
       "  <tbody>\n",
       "    <tr>\n",
       "      <th>count</th>\n",
       "      <td>247</td>\n",
       "      <td>247</td>\n",
       "      <td>247</td>\n",
       "      <td>247</td>\n",
       "      <td>247</td>\n",
       "      <td>247</td>\n",
       "      <td>247</td>\n",
       "    </tr>\n",
       "    <tr>\n",
       "      <th>unique</th>\n",
       "      <td>247</td>\n",
       "      <td>217</td>\n",
       "      <td>229</td>\n",
       "      <td>225</td>\n",
       "      <td>227</td>\n",
       "      <td>247</td>\n",
       "      <td>228</td>\n",
       "    </tr>\n",
       "    <tr>\n",
       "      <th>top</th>\n",
       "      <td>1/4/2021</td>\n",
       "      <td>23,85</td>\n",
       "      <td>20,21</td>\n",
       "      <td>6,42</td>\n",
       "      <td>21,65</td>\n",
       "      <td>25.706.100</td>\n",
       "      <td>21,63</td>\n",
       "    </tr>\n",
       "    <tr>\n",
       "      <th>freq</th>\n",
       "      <td>1</td>\n",
       "      <td>3</td>\n",
       "      <td>3</td>\n",
       "      <td>3</td>\n",
       "      <td>3</td>\n",
       "      <td>1</td>\n",
       "      <td>3</td>\n",
       "    </tr>\n",
       "  </tbody>\n",
       "</table>\n",
       "</div>"
      ],
      "text/plain": [
       "            Data  Maior  Menor Abertura Fechamento      Volume Adj Close\n",
       "count        247    247    247      247        247         247       247\n",
       "unique       247    217    229      225        227         247       228\n",
       "top     1/4/2021  23,85  20,21     6,42      21,65  25.706.100     21,63\n",
       "freq           1      3      3        3          3           1         3"
      ]
     },
     "execution_count": 63,
     "metadata": {},
     "output_type": "execute_result"
    }
   ],
   "source": [
    "# ESTATISTICAS DA BASE DE DADOS\n",
    "dados.describe()"
   ]
  },
  {
   "cell_type": "code",
   "execution_count": 64,
   "metadata": {},
   "outputs": [
    {
     "name": "stdout",
     "output_type": "stream",
     "text": [
      "<class 'pandas.core.frame.DataFrame'>\n",
      "RangeIndex: 247 entries, 0 to 246\n",
      "Data columns (total 7 columns):\n",
      " #   Column      Non-Null Count  Dtype \n",
      "---  ------      --------------  ----- \n",
      " 0   Data        247 non-null    object\n",
      " 1   Maior       247 non-null    object\n",
      " 2   Menor       247 non-null    object\n",
      " 3   Abertura    247 non-null    object\n",
      " 4   Fechamento  247 non-null    object\n",
      " 5   Volume      247 non-null    object\n",
      " 6   Adj Close   247 non-null    object\n",
      "dtypes: object(7)\n",
      "memory usage: 13.6+ KB\n"
     ]
    }
   ],
   "source": [
    "# INFORMAÇÕES SOBRE TIPO DE DADOS, QTD DE DADOS, DADOS NULOS, PRESENTES NA BASE DE DADOS\n",
    "dados.info()"
   ]
  },
  {
   "cell_type": "code",
   "execution_count": 65,
   "metadata": {},
   "outputs": [],
   "source": [
    "# <--- TRATAMENTO DA BASE DE DADOS\n",
    "#       Tratamos as colunas com os tipos de dados corretos, modificamos a estrutura dos \n",
    "#       dados para melhor visualização posteriormente."
   ]
  },
  {
   "cell_type": "code",
   "execution_count": 66,
   "metadata": {},
   "outputs": [],
   "source": [
    "# TRANSFORMAÇÃO DOS ATRIBUTOS PARA OS TIPOS\n",
    "dados['Data'] = pd.DatetimeIndex(dados['Data'])\n",
    "dados['Maior'] = pd.to_numeric(dados['Maior'].apply(lambda line: float(line.replace(',','.'))))\n",
    "dados['Menor'] = pd.to_numeric(dados['Menor'].apply(lambda line: float(line.replace(',','.'))))\n",
    "dados['Abertura'] = pd.to_numeric(dados['Abertura'].apply(lambda line: float(line.replace(',','.'))))\n",
    "dados['Fechamento'] = pd.to_numeric(dados['Fechamento'].apply(lambda line: float(line.replace(',','.'))))\n",
    "dados['Adj Close'] = pd.to_numeric(dados['Adj Close'].apply(lambda line: float(line.replace(',','.'))))\n",
    "dados = dados.set_index('Data')\n",
    "# --->"
   ]
  },
  {
   "cell_type": "code",
   "execution_count": 67,
   "metadata": {},
   "outputs": [],
   "source": [
    "# <--- ANÁLISE E VISUALIZAÇÃO DOS DADOS\n",
    "#       Vamos analisar todos os dados presentes na base de dados, afim de extrair\n",
    "#       informações relevantes."
   ]
  },
  {
   "cell_type": "code",
   "execution_count": 68,
   "metadata": {},
   "outputs": [
    {
     "data": {
      "image/png": "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",
      "text/plain": [
       "<Figure size 1800x432 with 1 Axes>"
      ]
     },
     "metadata": {},
     "output_type": "display_data"
    }
   ],
   "source": [
    "# ANALISE DAS AÇÕES DA MAGALU PELO TEMPO\n",
    "plt.style.use('seaborn-darkgrid')\n",
    "plt.figure( figsize=(25, 6) )\n",
    "plt.title('Análise das ações da magalu - Fechamento', fontsize=20, loc='left', pad=3)\n",
    "plt.plot(dados.index, dados['Fechamento'])\n",
    "\n",
    "plt.xlabel('Período da Coração', size=15)\n",
    "plt.ylabel('Valor da Ação (R$)', size=15)\n",
    "plt.show()"
   ]
  },
  {
   "cell_type": "code",
   "execution_count": 69,
   "metadata": {},
   "outputs": [],
   "source": [
    "# Podemos analisar pelo grafico acima, que as ações da Magalu tiveram uma queda drastica, a partir \n",
    "# do segundo semestre de 2021, por volta de Ago/2021."
   ]
  },
  {
   "cell_type": "code",
   "execution_count": 70,
   "metadata": {},
   "outputs": [
    {
     "data": {
      "image/png": "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",
      "text/plain": [
       "<Figure size 1800x432 with 1 Axes>"
      ]
     },
     "metadata": {},
     "output_type": "display_data"
    }
   ],
   "source": [
    "# ANALISE DO FECHAMENTO/MÉDIA MOVEL/TENDÊNCIA\n",
    "media_movel = dados['Fechamento'].rolling(5).mean()\n",
    "media_tendencia = dados['Fechamento'].rolling(30).mean()\n",
    "\n",
    "plt.style.use('seaborn-darkgrid')\n",
    "plt.figure( figsize=(25, 6) )\n",
    "plt.title('Análise das ações da magalu - Fechamento', fontsize=20, loc='left')\n",
    "\n",
    "plt.plot( dados.index, dados['Fechamento'] )\n",
    "plt.plot( dados.index, media_movel )\n",
    "plt.plot( dados.index, media_tendencia )\n",
    "\n",
    "plt.xlabel('Período da Coração', size=15)\n",
    "plt.ylabel('Valor da Ação (R$)', size=15)\n",
    "plt.show()"
   ]
  },
  {
   "cell_type": "code",
   "execution_count": 71,
   "metadata": {},
   "outputs": [],
   "source": [
    "# O Grafico acima mostra o fechamento das ações da Magalu (linha azul), minha média móvel de 5 dias \n",
    "# (linha laranja) e minha tendência (linha verde)."
   ]
  },
  {
   "cell_type": "code",
   "execution_count": 72,
   "metadata": {},
   "outputs": [
    {
     "data": {
      "application/vnd.plotly.v1+json": {
       "config": {
        "plotlyServerURL": "https://plot.ly"
       },
       "data": [
        {
         "close": [
          25.2,
          24.76,
          23.46,
          23.16,
          23.84,
          23.49,
          24.2,
          24.02,
          23.73,
          23.96,
          24.45,
          24.08,
          25.42,
          25.49,
          25.99,
          25.75,
          25.79,
          26.19,
          25.27,
          24.93,
          25.3,
          25.65,
          25.31,
          25.85,
          26.16,
          26.24,
          25.3,
          25.65,
          25.91,
          25.5,
          25.04,
          24.94,
          24.25,
          24.86,
          24.64,
          24.05,
          24.18,
          24.55,
          24.27,
          25.12,
          25.44,
          25.13,
          23.1,
          23.39,
          24.9,
          24.8,
          24.57,
          23.72,
          24.15,
          23.94,
          22.28,
          22.29,
          21.91,
          21.51,
          20.37,
          20.3,
          19.98,
          19.65,
          20.06,
          20.24,
          20.44,
          20.42,
          20.6,
          20.18,
          21.85,
          21.67,
          21.65,
          22.2,
          22.12,
          22.2,
          21.92,
          21.65,
          21.6,
          21.15,
          21.73,
          21.71,
          20.95,
          20.65,
          20.26,
          20.03,
          20.18,
          19.75,
          19.9,
          19.46,
          19.89,
          19.2,
          19.32,
          18.59,
          19.13,
          19.15,
          18.86,
          18.97,
          18.68,
          18.74,
          18.53,
          20,
          20.02,
          19.67,
          19.59,
          20.25,
          20.16,
          20.35,
          20.5,
          20.85,
          20.8,
          21.05,
          20.27,
          20.28,
          20.38,
          20.59,
          20.89,
          20.31,
          21.31,
          21.07,
          21.27,
          20.97,
          20.58,
          21.65,
          21.39,
          21.53,
          21.67,
          21.15,
          20.69,
          21.64,
          21.38,
          21.07,
          22.01,
          21.92,
          22.1,
          22.49,
          22.93,
          23.72,
          23.9,
          23.12,
          23.37,
          23.36,
          23.25,
          22.6,
          22.04,
          21.45,
          21.53,
          21.72,
          20.6,
          20.63,
          20.43,
          19.96,
          20.46,
          20.68,
          20.49,
          20.4,
          20.91,
          20.97,
          20.27,
          19.42,
          19.31,
          18.84,
          18.95,
          18.86,
          18.13,
          19.24,
          19.55,
          18.8,
          19.03,
          18.88,
          18.24,
          18.68,
          18.01,
          18.9,
          19.48,
          18.79,
          18.85,
          17.18,
          17.44,
          17.03,
          16.62,
          16.37,
          16.57,
          16.05,
          16.39,
          16.34,
          15.87,
          15.63,
          15.01,
          14.18,
          13.94,
          14.34,
          14.55,
          13.71,
          13.68,
          14.46,
          14.03,
          14.97,
          14.38,
          14.5,
          14.17,
          14.56,
          14.28,
          13.73,
          13.27,
          12.41,
          12.42,
          12.34,
          11.98,
          11.6,
          11.15,
          10.81,
          11.3,
          11.55,
          11.08,
          12.44,
          11.93,
          13.13,
          13.02,
          13.65,
          11.15,
          9.74,
          9.27,
          8.99,
          9.27,
          8.84,
          8.6,
          8.82,
          8.7,
          8.06,
          8.04,
          7.8,
          6.88,
          6.76,
          7.05,
          7.3,
          7.62,
          6.81,
          6.28,
          6.37,
          6.05,
          5.74,
          6.17,
          6.4,
          6.66,
          6.33,
          6.42,
          6.16,
          6.2,
          6.78,
          6.83,
          6.76,
          7.22
         ],
         "high": [
          25.58,
          25.18,
          24.66,
          23.85,
          24.3,
          23.85,
          24.32,
          24.2,
          24.16,
          24.11,
          24.65,
          24.95,
          25.53,
          25.65,
          26.3,
          27.07,
          26.39,
          26.5,
          26.08,
          25.74,
          25.73,
          25.77,
          26.2,
          26.09,
          26.4,
          26.45,
          26.12,
          25.95,
          25.98,
          26.21,
          25.59,
          25.39,
          24.52,
          25.08,
          25.1,
          25.02,
          24.96,
          25,
          24.6,
          25.28,
          25.7,
          25.34,
          24.77,
          23.97,
          25.09,
          25.08,
          24.9,
          24.76,
          24.39,
          24.05,
          23.85,
          22.65,
          22.73,
          22.03,
          21.51,
          20.97,
          20.7,
          20.05,
          20.32,
          20.46,
          21.02,
          20.73,
          20.72,
          20.53,
          21.9,
          22.02,
          21.93,
          22.29,
          22.35,
          22.52,
          22.25,
          22.15,
          21.8,
          21.85,
          21.73,
          21.81,
          21.65,
          21.1,
          20.67,
          20.39,
          20.25,
          20.23,
          20.09,
          19.95,
          19.9,
          19.98,
          19.39,
          19.15,
          19.25,
          19.74,
          19.22,
          19.41,
          19.12,
          18.88,
          18.78,
          20.06,
          20.66,
          20.39,
          19.84,
          20.42,
          20.4,
          20.65,
          21.26,
          21.05,
          20.99,
          21.43,
          21.09,
          20.39,
          20.48,
          20.73,
          21.18,
          21,
          21.37,
          21.51,
          21.32,
          21.34,
          21.22,
          21.73,
          21.93,
          21.84,
          21.69,
          21.6,
          21.27,
          21.69,
          21.6,
          21.43,
          22.15,
          22.07,
          22.4,
          22.54,
          22.93,
          24.57,
          24.34,
          23.88,
          23.38,
          23.52,
          23.52,
          22.93,
          22.76,
          22.16,
          21.78,
          22.15,
          21.7,
          21.07,
          20.65,
          20.32,
          20.75,
          20.88,
          20.88,
          20.76,
          20.96,
          21.26,
          21.17,
          20.4,
          19.66,
          19.5,
          19.08,
          19,
          19.05,
          19.34,
          19.56,
          19.7,
          19.15,
          19.1,
          19.06,
          18.86,
          18.66,
          18.9,
          19.5,
          19.33,
          19.42,
          19.12,
          18.04,
          17.78,
          17.13,
          16.62,
          16.77,
          16.41,
          16.61,
          16.72,
          16.52,
          15.73,
          15.72,
          14.96,
          14.51,
          14.71,
          14.71,
          14.28,
          14.13,
          14.6,
          14.84,
          15.35,
          15.06,
          14.65,
          14.63,
          14.65,
          14.44,
          14.28,
          13.89,
          13.2,
          12.95,
          12.83,
          12.35,
          12.43,
          11.76,
          11.36,
          11.43,
          11.67,
          11.82,
          12.62,
          12.66,
          13.8,
          13.54,
          14.26,
          12.78,
          11.4,
          10.14,
          9.6,
          9.87,
          9.68,
          9.05,
          9.01,
          9.04,
          8.57,
          8.47,
          8.11,
          8.1,
          7.19,
          7.28,
          7.44,
          7.72,
          7.57,
          6.76,
          6.51,
          6.72,
          6.2,
          6.24,
          6.51,
          6.73,
          6.72,
          6.61,
          6.61,
          6.34,
          6.78,
          6.96,
          6.9,
          7.41
         ],
         "low": [
          24.87,
          24.34,
          23.42,
          22.95,
          23.02,
          23.33,
          23.25,
          23.55,
          23.5,
          23.35,
          23.91,
          23.82,
          24.12,
          24.85,
          25.1,
          25.67,
          25.35,
          25.39,
          25.03,
          24.75,
          25.2,
          25.04,
          25.16,
          25.38,
          25.52,
          25.9,
          25.11,
          25.3,
          25.35,
          25.46,
          24.8,
          24.19,
          23.66,
          23.85,
          24.2,
          23.81,
          23.98,
          24.17,
          23.59,
          23.5,
          24.88,
          24.56,
          23.1,
          23.31,
          23.47,
          24.46,
          24.27,
          23.55,
          23.6,
          23.41,
          22.07,
          22.03,
          21.45,
          21.35,
          20.21,
          19.97,
          19.7,
          19.4,
          19.42,
          19.67,
          20.05,
          19.93,
          20.06,
          20.03,
          20.21,
          21.6,
          21.61,
          21.48,
          21.87,
          22.1,
          21.76,
          21.54,
          21.42,
          21.11,
          21.13,
          21.5,
          20.93,
          20.58,
          19.91,
          19.87,
          19.9,
          19.64,
          19.68,
          19.3,
          19.33,
          19.05,
          18.66,
          18.5,
          18.73,
          18.97,
          18.73,
          18.77,
          18.54,
          18.6,
          18.25,
          18.51,
          20.02,
          19.65,
          19.47,
          19.62,
          19.98,
          20.21,
          20.25,
          20.51,
          20.57,
          20.85,
          20.22,
          19.93,
          19.99,
          20.38,
          20.48,
          20.06,
          20.08,
          21.02,
          20.88,
          20.66,
          20.51,
          20.7,
          21.06,
          21.12,
          21.05,
          21.01,
          20.42,
          20.76,
          21.13,
          20.95,
          21.28,
          21.48,
          21.95,
          21.77,
          22.51,
          23.71,
          23.81,
          22.96,
          22.7,
          22.97,
          23.05,
          22.21,
          22.02,
          21.1,
          21.22,
          21.4,
          20.55,
          20.56,
          19.72,
          19.72,
          19.99,
          20.14,
          20.43,
          20.13,
          20.15,
          20.54,
          19.88,
          19.4,
          18.71,
          18.63,
          18.11,
          18.4,
          18.07,
          18.15,
          19.03,
          18.69,
          18.76,
          18.49,
          18.14,
          18.28,
          17.86,
          17.9,
          18.76,
          18.65,
          17.96,
          17.18,
          17.43,
          16.85,
          16.49,
          16.11,
          15.86,
          15.79,
          15.82,
          16.16,
          15.81,
          15.36,
          14.92,
          14.02,
          13.87,
          13.92,
          14.07,
          13.53,
          13.54,
          13.15,
          14,
          14.26,
          14.35,
          14.29,
          14.1,
          14.1,
          14.02,
          13.59,
          13.13,
          12.28,
          11.86,
          12.27,
          11.73,
          11.54,
          11.07,
          10.73,
          10.86,
          10.99,
          10.93,
          11.16,
          11.87,
          12.05,
          12.82,
          13.12,
          11.15,
          9.74,
          9.19,
          8.99,
          8.94,
          8.81,
          8.47,
          8.45,
          8.61,
          8.03,
          7.98,
          7.6,
          6.88,
          6.45,
          6.72,
          7.1,
          7.37,
          6.63,
          6.21,
          6.01,
          6.05,
          5.73,
          5.62,
          6.13,
          6.06,
          6.24,
          6.22,
          6.14,
          5.99,
          6.23,
          6.64,
          6.7,
          6.77
         ],
         "open": [
          25.26,
          25.1,
          24.65,
          23.64,
          23.19,
          23.5,
          23.6,
          24.2,
          24.15,
          23.73,
          24.05,
          24.54,
          24.18,
          25.4,
          25.13,
          26.25,
          25.72,
          25.87,
          25.74,
          25.68,
          25.3,
          25.44,
          25.64,
          25.38,
          25.85,
          26.16,
          26.1,
          25.3,
          25.52,
          25.72,
          25.5,
          24.92,
          24.23,
          24.3,
          24.93,
          24.59,
          24.08,
          24.56,
          24.29,
          24.53,
          25.11,
          25.19,
          24.69,
          23.55,
          23.75,
          25.07,
          24.6,
          24.35,
          23.82,
          23.86,
          23.76,
          22.48,
          22.4,
          21.8,
          21.48,
          20.05,
          20.4,
          19.93,
          19.49,
          20.16,
          20.28,
          20.6,
          20.34,
          20.5,
          20.23,
          21.65,
          21.78,
          21.72,
          22.35,
          22.22,
          22.19,
          21.91,
          21.64,
          21.71,
          21.26,
          21.61,
          21.6,
          20.94,
          20.63,
          20.1,
          20.11,
          20.18,
          19.85,
          19.85,
          19.58,
          19.89,
          19,
          19,
          18.81,
          19.6,
          19.12,
          18.83,
          18.76,
          18.68,
          18.75,
          18.55,
          20.2,
          20.36,
          19.74,
          19.7,
          20.26,
          20.26,
          20.41,
          20.61,
          20.94,
          21.09,
          21.05,
          20.34,
          20.28,
          20.44,
          20.56,
          20.95,
          20.3,
          21.31,
          21.17,
          21.33,
          20.95,
          20.8,
          21.77,
          21.39,
          21.53,
          21.53,
          21.22,
          20.8,
          21.5,
          21.14,
          21.3,
          21.68,
          22.06,
          21.97,
          22.6,
          23.9,
          23.82,
          23.65,
          23.2,
          23.27,
          23.39,
          22.8,
          22.73,
          22.08,
          21.59,
          21.58,
          21.44,
          20.91,
          20.6,
          20.29,
          20.12,
          20.53,
          20.57,
          20.53,
          20.41,
          20.74,
          21.1,
          20.23,
          19.28,
          19.42,
          18.58,
          18.7,
          19.02,
          18.34,
          19.12,
          19.47,
          18.92,
          18.94,
          18.75,
          18.36,
          18.66,
          18.1,
          18.86,
          19.25,
          18.9,
          19.06,
          17.59,
          17.54,
          17.08,
          16.45,
          16.31,
          16.24,
          16.16,
          16.6,
          16.4,
          15.68,
          15.52,
          14.81,
          14.3,
          13.98,
          14.4,
          14.25,
          13.8,
          13.49,
          14.6,
          14.26,
          15.04,
          14.42,
          14.6,
          14.21,
          14.39,
          14.11,
          13.84,
          12.89,
          12.35,
          12.49,
          12.29,
          12.07,
          11.49,
          11.24,
          10.87,
          11.19,
          11.5,
          11.22,
          12.31,
          12.05,
          13.2,
          13.3,
          12.65,
          11.19,
          9.91,
          9.36,
          9.05,
          9.4,
          9,
          8.5,
          8.84,
          8.48,
          8.19,
          7.99,
          8.05,
          6.95,
          6.78,
          7.15,
          7.49,
          7.56,
          6.76,
          6.43,
          6.38,
          6.15,
          5.71,
          6.28,
          6.19,
          6.42,
          6.42,
          6.42,
          6.22,
          6.23,
          6.79,
          6.84,
          6.8
         ],
         "type": "candlestick",
         "x": [
          "2021-01-04T00:00:00",
          "2021-01-05T00:00:00",
          "2021-01-06T00:00:00",
          "2021-01-07T00:00:00",
          "2021-01-08T00:00:00",
          "2021-01-11T00:00:00",
          "2021-01-12T00:00:00",
          "2021-01-13T00:00:00",
          "2021-01-14T00:00:00",
          "2021-01-15T00:00:00",
          "2021-01-18T00:00:00",
          "2021-01-19T00:00:00",
          "2021-01-20T00:00:00",
          "2021-01-21T00:00:00",
          "2021-01-22T00:00:00",
          "2021-01-26T00:00:00",
          "2021-01-27T00:00:00",
          "2021-01-28T00:00:00",
          "2021-01-29T00:00:00",
          "2021-02-01T00:00:00",
          "2021-02-02T00:00:00",
          "2021-02-03T00:00:00",
          "2021-02-04T00:00:00",
          "2021-02-05T00:00:00",
          "2021-02-08T00:00:00",
          "2021-02-09T00:00:00",
          "2021-02-10T00:00:00",
          "2021-02-11T00:00:00",
          "2021-02-12T00:00:00",
          "2021-02-17T00:00:00",
          "2021-02-18T00:00:00",
          "2021-02-19T00:00:00",
          "2021-02-22T00:00:00",
          "2021-02-23T00:00:00",
          "2021-02-24T00:00:00",
          "2021-02-25T00:00:00",
          "2021-02-26T00:00:00",
          "2021-03-01T00:00:00",
          "2021-03-02T00:00:00",
          "2021-03-03T00:00:00",
          "2021-03-04T00:00:00",
          "2021-03-05T00:00:00",
          "2021-03-08T00:00:00",
          "2021-03-09T00:00:00",
          "2021-03-10T00:00:00",
          "2021-03-11T00:00:00",
          "2021-03-12T00:00:00",
          "2021-03-15T00:00:00",
          "2021-03-16T00:00:00",
          "2021-03-17T00:00:00",
          "2021-03-18T00:00:00",
          "2021-03-19T00:00:00",
          "2021-03-22T00:00:00",
          "2021-03-23T00:00:00",
          "2021-03-24T00:00:00",
          "2021-03-25T00:00:00",
          "2021-03-26T00:00:00",
          "2021-03-29T00:00:00",
          "2021-03-30T00:00:00",
          "2021-03-31T00:00:00",
          "2021-04-01T00:00:00",
          "2021-04-05T00:00:00",
          "2021-04-06T00:00:00",
          "2021-04-07T00:00:00",
          "2021-04-08T00:00:00",
          "2021-04-09T00:00:00",
          "2021-04-12T00:00:00",
          "2021-04-13T00:00:00",
          "2021-04-14T00:00:00",
          "2021-04-15T00:00:00",
          "2021-04-16T00:00:00",
          "2021-04-19T00:00:00",
          "2021-04-20T00:00:00",
          "2021-04-22T00:00:00",
          "2021-04-23T00:00:00",
          "2021-04-26T00:00:00",
          "2021-04-27T00:00:00",
          "2021-04-28T00:00:00",
          "2021-04-29T00:00:00",
          "2021-04-30T00:00:00",
          "2021-05-03T00:00:00",
          "2021-05-04T00:00:00",
          "2021-05-05T00:00:00",
          "2021-05-06T00:00:00",
          "2021-05-07T00:00:00",
          "2021-05-10T00:00:00",
          "2021-05-11T00:00:00",
          "2021-05-12T00:00:00",
          "2021-05-13T00:00:00",
          "2021-05-14T00:00:00",
          "2021-05-17T00:00:00",
          "2021-05-18T00:00:00",
          "2021-05-19T00:00:00",
          "2021-05-20T00:00:00",
          "2021-05-21T00:00:00",
          "2021-05-24T00:00:00",
          "2021-05-25T00:00:00",
          "2021-05-26T00:00:00",
          "2021-05-27T00:00:00",
          "2021-05-28T00:00:00",
          "2021-05-31T00:00:00",
          "2021-06-01T00:00:00",
          "2021-06-02T00:00:00",
          "2021-06-04T00:00:00",
          "2021-06-07T00:00:00",
          "2021-06-08T00:00:00",
          "2021-06-09T00:00:00",
          "2021-06-10T00:00:00",
          "2021-06-11T00:00:00",
          "2021-06-14T00:00:00",
          "2021-06-15T00:00:00",
          "2021-06-16T00:00:00",
          "2021-06-17T00:00:00",
          "2021-06-18T00:00:00",
          "2021-06-21T00:00:00",
          "2021-06-22T00:00:00",
          "2021-06-23T00:00:00",
          "2021-06-24T00:00:00",
          "2021-06-25T00:00:00",
          "2021-06-28T00:00:00",
          "2021-06-29T00:00:00",
          "2021-06-30T00:00:00",
          "2021-07-01T00:00:00",
          "2021-07-02T00:00:00",
          "2021-07-05T00:00:00",
          "2021-07-06T00:00:00",
          "2021-07-07T00:00:00",
          "2021-07-08T00:00:00",
          "2021-07-12T00:00:00",
          "2021-07-13T00:00:00",
          "2021-07-14T00:00:00",
          "2021-07-15T00:00:00",
          "2021-07-16T00:00:00",
          "2021-07-19T00:00:00",
          "2021-07-20T00:00:00",
          "2021-07-21T00:00:00",
          "2021-07-22T00:00:00",
          "2021-07-23T00:00:00",
          "2021-07-26T00:00:00",
          "2021-07-27T00:00:00",
          "2021-07-28T00:00:00",
          "2021-07-29T00:00:00",
          "2021-07-30T00:00:00",
          "2021-08-02T00:00:00",
          "2021-08-03T00:00:00",
          "2021-08-04T00:00:00",
          "2021-08-05T00:00:00",
          "2021-08-06T00:00:00",
          "2021-08-09T00:00:00",
          "2021-08-10T00:00:00",
          "2021-08-11T00:00:00",
          "2021-08-12T00:00:00",
          "2021-08-13T00:00:00",
          "2021-08-16T00:00:00",
          "2021-08-17T00:00:00",
          "2021-08-18T00:00:00",
          "2021-08-19T00:00:00",
          "2021-08-20T00:00:00",
          "2021-08-23T00:00:00",
          "2021-08-24T00:00:00",
          "2021-08-25T00:00:00",
          "2021-08-26T00:00:00",
          "2021-08-27T00:00:00",
          "2021-08-30T00:00:00",
          "2021-08-31T00:00:00",
          "2021-09-01T00:00:00",
          "2021-09-02T00:00:00",
          "2021-09-03T00:00:00",
          "2021-09-06T00:00:00",
          "2021-09-08T00:00:00",
          "2021-09-09T00:00:00",
          "2021-09-10T00:00:00",
          "2021-09-13T00:00:00",
          "2021-09-14T00:00:00",
          "2021-09-15T00:00:00",
          "2021-09-16T00:00:00",
          "2021-09-17T00:00:00",
          "2021-09-20T00:00:00",
          "2021-09-21T00:00:00",
          "2021-09-22T00:00:00",
          "2021-09-23T00:00:00",
          "2021-09-24T00:00:00",
          "2021-09-27T00:00:00",
          "2021-09-28T00:00:00",
          "2021-09-29T00:00:00",
          "2021-09-30T00:00:00",
          "2021-10-01T00:00:00",
          "2021-10-04T00:00:00",
          "2021-10-05T00:00:00",
          "2021-10-06T00:00:00",
          "2021-10-07T00:00:00",
          "2021-10-08T00:00:00",
          "2021-10-11T00:00:00",
          "2021-10-13T00:00:00",
          "2021-10-14T00:00:00",
          "2021-10-15T00:00:00",
          "2021-10-18T00:00:00",
          "2021-10-19T00:00:00",
          "2021-10-20T00:00:00",
          "2021-10-21T00:00:00",
          "2021-10-22T00:00:00",
          "2021-10-25T00:00:00",
          "2021-10-26T00:00:00",
          "2021-10-27T00:00:00",
          "2021-10-28T00:00:00",
          "2021-10-29T00:00:00",
          "2021-11-01T00:00:00",
          "2021-11-03T00:00:00",
          "2021-11-04T00:00:00",
          "2021-11-05T00:00:00",
          "2021-11-08T00:00:00",
          "2021-11-09T00:00:00",
          "2021-11-10T00:00:00",
          "2021-11-11T00:00:00",
          "2021-11-12T00:00:00",
          "2021-11-16T00:00:00",
          "2021-11-17T00:00:00",
          "2021-11-18T00:00:00",
          "2021-11-19T00:00:00",
          "2021-11-22T00:00:00",
          "2021-11-23T00:00:00",
          "2021-11-24T00:00:00",
          "2021-11-25T00:00:00",
          "2021-11-26T00:00:00",
          "2021-11-29T00:00:00",
          "2021-11-30T00:00:00",
          "2021-12-01T00:00:00",
          "2021-12-02T00:00:00",
          "2021-12-03T00:00:00",
          "2021-12-06T00:00:00",
          "2021-12-07T00:00:00",
          "2021-12-08T00:00:00",
          "2021-12-09T00:00:00",
          "2021-12-10T00:00:00",
          "2021-12-13T00:00:00",
          "2021-12-14T00:00:00",
          "2021-12-15T00:00:00",
          "2021-12-16T00:00:00",
          "2021-12-17T00:00:00",
          "2021-12-20T00:00:00",
          "2021-12-21T00:00:00",
          "2021-12-22T00:00:00",
          "2021-12-23T00:00:00",
          "2021-12-27T00:00:00",
          "2021-12-28T00:00:00",
          "2021-12-29T00:00:00",
          "2021-12-30T00:00:00"
         ]
        }
       ],
       "layout": {
        "template": {
         "data": {
          "bar": [
           {
            "error_x": {
             "color": "#2a3f5f"
            },
            "error_y": {
             "color": "#2a3f5f"
            },
            "marker": {
             "line": {
              "color": "#E5ECF6",
              "width": 0.5
             },
             "pattern": {
              "fillmode": "overlay",
              "size": 10,
              "solidity": 0.2
             }
            },
            "type": "bar"
           }
          ],
          "barpolar": [
           {
            "marker": {
             "line": {
              "color": "#E5ECF6",
              "width": 0.5
             },
             "pattern": {
              "fillmode": "overlay",
              "size": 10,
              "solidity": 0.2
             }
            },
            "type": "barpolar"
           }
          ],
          "carpet": [
           {
            "aaxis": {
             "endlinecolor": "#2a3f5f",
             "gridcolor": "white",
             "linecolor": "white",
             "minorgridcolor": "white",
             "startlinecolor": "#2a3f5f"
            },
            "baxis": {
             "endlinecolor": "#2a3f5f",
             "gridcolor": "white",
             "linecolor": "white",
             "minorgridcolor": "white",
             "startlinecolor": "#2a3f5f"
            },
            "type": "carpet"
           }
          ],
          "choropleth": [
           {
            "colorbar": {
             "outlinewidth": 0,
             "ticks": ""
            },
            "type": "choropleth"
           }
          ],
          "contour": [
           {
            "colorbar": {
             "outlinewidth": 0,
             "ticks": ""
            },
            "colorscale": [
             [
              0,
              "#0d0887"
             ],
             [
              0.1111111111111111,
              "#46039f"
             ],
             [
              0.2222222222222222,
              "#7201a8"
             ],
             [
              0.3333333333333333,
              "#9c179e"
             ],
             [
              0.4444444444444444,
              "#bd3786"
             ],
             [
              0.5555555555555556,
              "#d8576b"
             ],
             [
              0.6666666666666666,
              "#ed7953"
             ],
             [
              0.7777777777777778,
              "#fb9f3a"
             ],
             [
              0.8888888888888888,
              "#fdca26"
             ],
             [
              1,
              "#f0f921"
             ]
            ],
            "type": "contour"
           }
          ],
          "contourcarpet": [
           {
            "colorbar": {
             "outlinewidth": 0,
             "ticks": ""
            },
            "type": "contourcarpet"
           }
          ],
          "heatmap": [
           {
            "colorbar": {
             "outlinewidth": 0,
             "ticks": ""
            },
            "colorscale": [
             [
              0,
              "#0d0887"
             ],
             [
              0.1111111111111111,
              "#46039f"
             ],
             [
              0.2222222222222222,
              "#7201a8"
             ],
             [
              0.3333333333333333,
              "#9c179e"
             ],
             [
              0.4444444444444444,
              "#bd3786"
             ],
             [
              0.5555555555555556,
              "#d8576b"
             ],
             [
              0.6666666666666666,
              "#ed7953"
             ],
             [
              0.7777777777777778,
              "#fb9f3a"
             ],
             [
              0.8888888888888888,
              "#fdca26"
             ],
             [
              1,
              "#f0f921"
             ]
            ],
            "type": "heatmap"
           }
          ],
          "heatmapgl": [
           {
            "colorbar": {
             "outlinewidth": 0,
             "ticks": ""
            },
            "colorscale": [
             [
              0,
              "#0d0887"
             ],
             [
              0.1111111111111111,
              "#46039f"
             ],
             [
              0.2222222222222222,
              "#7201a8"
             ],
             [
              0.3333333333333333,
              "#9c179e"
             ],
             [
              0.4444444444444444,
              "#bd3786"
             ],
             [
              0.5555555555555556,
              "#d8576b"
             ],
             [
              0.6666666666666666,
              "#ed7953"
             ],
             [
              0.7777777777777778,
              "#fb9f3a"
             ],
             [
              0.8888888888888888,
              "#fdca26"
             ],
             [
              1,
              "#f0f921"
             ]
            ],
            "type": "heatmapgl"
           }
          ],
          "histogram": [
           {
            "marker": {
             "pattern": {
              "fillmode": "overlay",
              "size": 10,
              "solidity": 0.2
             }
            },
            "type": "histogram"
           }
          ],
          "histogram2d": [
           {
            "colorbar": {
             "outlinewidth": 0,
             "ticks": ""
            },
            "colorscale": [
             [
              0,
              "#0d0887"
             ],
             [
              0.1111111111111111,
              "#46039f"
             ],
             [
              0.2222222222222222,
              "#7201a8"
             ],
             [
              0.3333333333333333,
              "#9c179e"
             ],
             [
              0.4444444444444444,
              "#bd3786"
             ],
             [
              0.5555555555555556,
              "#d8576b"
             ],
             [
              0.6666666666666666,
              "#ed7953"
             ],
             [
              0.7777777777777778,
              "#fb9f3a"
             ],
             [
              0.8888888888888888,
              "#fdca26"
             ],
             [
              1,
              "#f0f921"
             ]
            ],
            "type": "histogram2d"
           }
          ],
          "histogram2dcontour": [
           {
            "colorbar": {
             "outlinewidth": 0,
             "ticks": ""
            },
            "colorscale": [
             [
              0,
              "#0d0887"
             ],
             [
              0.1111111111111111,
              "#46039f"
             ],
             [
              0.2222222222222222,
              "#7201a8"
             ],
             [
              0.3333333333333333,
              "#9c179e"
             ],
             [
              0.4444444444444444,
              "#bd3786"
             ],
             [
              0.5555555555555556,
              "#d8576b"
             ],
             [
              0.6666666666666666,
              "#ed7953"
             ],
             [
              0.7777777777777778,
              "#fb9f3a"
             ],
             [
              0.8888888888888888,
              "#fdca26"
             ],
             [
              1,
              "#f0f921"
             ]
            ],
            "type": "histogram2dcontour"
           }
          ],
          "mesh3d": [
           {
            "colorbar": {
             "outlinewidth": 0,
             "ticks": ""
            },
            "type": "mesh3d"
           }
          ],
          "parcoords": [
           {
            "line": {
             "colorbar": {
              "outlinewidth": 0,
              "ticks": ""
             }
            },
            "type": "parcoords"
           }
          ],
          "pie": [
           {
            "automargin": true,
            "type": "pie"
           }
          ],
          "scatter": [
           {
            "fillpattern": {
             "fillmode": "overlay",
             "size": 10,
             "solidity": 0.2
            },
            "type": "scatter"
           }
          ],
          "scatter3d": [
           {
            "line": {
             "colorbar": {
              "outlinewidth": 0,
              "ticks": ""
             }
            },
            "marker": {
             "colorbar": {
              "outlinewidth": 0,
              "ticks": ""
             }
            },
            "type": "scatter3d"
           }
          ],
          "scattercarpet": [
           {
            "marker": {
             "colorbar": {
              "outlinewidth": 0,
              "ticks": ""
             }
            },
            "type": "scattercarpet"
           }
          ],
          "scattergeo": [
           {
            "marker": {
             "colorbar": {
              "outlinewidth": 0,
              "ticks": ""
             }
            },
            "type": "scattergeo"
           }
          ],
          "scattergl": [
           {
            "marker": {
             "colorbar": {
              "outlinewidth": 0,
              "ticks": ""
             }
            },
            "type": "scattergl"
           }
          ],
          "scattermapbox": [
           {
            "marker": {
             "colorbar": {
              "outlinewidth": 0,
              "ticks": ""
             }
            },
            "type": "scattermapbox"
           }
          ],
          "scatterpolar": [
           {
            "marker": {
             "colorbar": {
              "outlinewidth": 0,
              "ticks": ""
             }
            },
            "type": "scatterpolar"
           }
          ],
          "scatterpolargl": [
           {
            "marker": {
             "colorbar": {
              "outlinewidth": 0,
              "ticks": ""
             }
            },
            "type": "scatterpolargl"
           }
          ],
          "scatterternary": [
           {
            "marker": {
             "colorbar": {
              "outlinewidth": 0,
              "ticks": ""
             }
            },
            "type": "scatterternary"
           }
          ],
          "surface": [
           {
            "colorbar": {
             "outlinewidth": 0,
             "ticks": ""
            },
            "colorscale": [
             [
              0,
              "#0d0887"
             ],
             [
              0.1111111111111111,
              "#46039f"
             ],
             [
              0.2222222222222222,
              "#7201a8"
             ],
             [
              0.3333333333333333,
              "#9c179e"
             ],
             [
              0.4444444444444444,
              "#bd3786"
             ],
             [
              0.5555555555555556,
              "#d8576b"
             ],
             [
              0.6666666666666666,
              "#ed7953"
             ],
             [
              0.7777777777777778,
              "#fb9f3a"
             ],
             [
              0.8888888888888888,
              "#fdca26"
             ],
             [
              1,
              "#f0f921"
             ]
            ],
            "type": "surface"
           }
          ],
          "table": [
           {
            "cells": {
             "fill": {
              "color": "#EBF0F8"
             },
             "line": {
              "color": "white"
             }
            },
            "header": {
             "fill": {
              "color": "#C8D4E3"
             },
             "line": {
              "color": "white"
             }
            },
            "type": "table"
           }
          ]
         },
         "layout": {
          "annotationdefaults": {
           "arrowcolor": "#2a3f5f",
           "arrowhead": 0,
           "arrowwidth": 1
          },
          "autotypenumbers": "strict",
          "coloraxis": {
           "colorbar": {
            "outlinewidth": 0,
            "ticks": ""
           }
          },
          "colorscale": {
           "diverging": [
            [
             0,
             "#8e0152"
            ],
            [
             0.1,
             "#c51b7d"
            ],
            [
             0.2,
             "#de77ae"
            ],
            [
             0.3,
             "#f1b6da"
            ],
            [
             0.4,
             "#fde0ef"
            ],
            [
             0.5,
             "#f7f7f7"
            ],
            [
             0.6,
             "#e6f5d0"
            ],
            [
             0.7,
             "#b8e186"
            ],
            [
             0.8,
             "#7fbc41"
            ],
            [
             0.9,
             "#4d9221"
            ],
            [
             1,
             "#276419"
            ]
           ],
           "sequential": [
            [
             0,
             "#0d0887"
            ],
            [
             0.1111111111111111,
             "#46039f"
            ],
            [
             0.2222222222222222,
             "#7201a8"
            ],
            [
             0.3333333333333333,
             "#9c179e"
            ],
            [
             0.4444444444444444,
             "#bd3786"
            ],
            [
             0.5555555555555556,
             "#d8576b"
            ],
            [
             0.6666666666666666,
             "#ed7953"
            ],
            [
             0.7777777777777778,
             "#fb9f3a"
            ],
            [
             0.8888888888888888,
             "#fdca26"
            ],
            [
             1,
             "#f0f921"
            ]
           ],
           "sequentialminus": [
            [
             0,
             "#0d0887"
            ],
            [
             0.1111111111111111,
             "#46039f"
            ],
            [
             0.2222222222222222,
             "#7201a8"
            ],
            [
             0.3333333333333333,
             "#9c179e"
            ],
            [
             0.4444444444444444,
             "#bd3786"
            ],
            [
             0.5555555555555556,
             "#d8576b"
            ],
            [
             0.6666666666666666,
             "#ed7953"
            ],
            [
             0.7777777777777778,
             "#fb9f3a"
            ],
            [
             0.8888888888888888,
             "#fdca26"
            ],
            [
             1,
             "#f0f921"
            ]
           ]
          },
          "colorway": [
           "#636efa",
           "#EF553B",
           "#00cc96",
           "#ab63fa",
           "#FFA15A",
           "#19d3f3",
           "#FF6692",
           "#B6E880",
           "#FF97FF",
           "#FECB52"
          ],
          "font": {
           "color": "#2a3f5f"
          },
          "geo": {
           "bgcolor": "white",
           "lakecolor": "white",
           "landcolor": "#E5ECF6",
           "showlakes": true,
           "showland": true,
           "subunitcolor": "white"
          },
          "hoverlabel": {
           "align": "left"
          },
          "hovermode": "closest",
          "mapbox": {
           "style": "light"
          },
          "paper_bgcolor": "white",
          "plot_bgcolor": "#E5ECF6",
          "polar": {
           "angularaxis": {
            "gridcolor": "white",
            "linecolor": "white",
            "ticks": ""
           },
           "bgcolor": "#E5ECF6",
           "radialaxis": {
            "gridcolor": "white",
            "linecolor": "white",
            "ticks": ""
           }
          },
          "scene": {
           "xaxis": {
            "backgroundcolor": "#E5ECF6",
            "gridcolor": "white",
            "gridwidth": 2,
            "linecolor": "white",
            "showbackground": true,
            "ticks": "",
            "zerolinecolor": "white"
           },
           "yaxis": {
            "backgroundcolor": "#E5ECF6",
            "gridcolor": "white",
            "gridwidth": 2,
            "linecolor": "white",
            "showbackground": true,
            "ticks": "",
            "zerolinecolor": "white"
           },
           "zaxis": {
            "backgroundcolor": "#E5ECF6",
            "gridcolor": "white",
            "gridwidth": 2,
            "linecolor": "white",
            "showbackground": true,
            "ticks": "",
            "zerolinecolor": "white"
           }
          },
          "shapedefaults": {
           "line": {
            "color": "#2a3f5f"
           }
          },
          "ternary": {
           "aaxis": {
            "gridcolor": "white",
            "linecolor": "white",
            "ticks": ""
           },
           "baxis": {
            "gridcolor": "white",
            "linecolor": "white",
            "ticks": ""
           },
           "bgcolor": "#E5ECF6",
           "caxis": {
            "gridcolor": "white",
            "linecolor": "white",
            "ticks": ""
           }
          },
          "title": {
           "x": 0.05
          },
          "xaxis": {
           "automargin": true,
           "gridcolor": "white",
           "linecolor": "white",
           "ticks": "",
           "title": {
            "standoff": 15
           },
           "zerolinecolor": "white",
           "zerolinewidth": 2
          },
          "yaxis": {
           "automargin": true,
           "gridcolor": "white",
           "linecolor": "white",
           "ticks": "",
           "title": {
            "standoff": 15
           },
           "zerolinecolor": "white",
           "zerolinewidth": 2
          }
         }
        },
        "xaxis": {
         "rangeslider": {
          "visible": false
         }
        }
       }
      }
     },
     "metadata": {},
     "output_type": "display_data"
    }
   ],
   "source": [
    "# ANALISE GERAL DAS AÇÕES\n",
    "Grafico = go.Figure(\n",
    "    data=[\n",
    "          go.Candlestick(\n",
    "              x= dados.index,\n",
    "              open = dados['Abertura'],\n",
    "              high = dados['Maior'],\n",
    "              low = dados['Menor'],\n",
    "              close = dados['Fechamento'],\n",
    "          )\n",
    "    ]\n",
    ")\n",
    "\n",
    "Grafico.update_layout( xaxis_rangeslider_visible=False )\n",
    "Grafico.show()"
   ]
  },
  {
   "cell_type": "code",
   "execution_count": 73,
   "metadata": {},
   "outputs": [],
   "source": [
    "# No gráfico acima podemos ver detalhadamente todos os dias analisados da base de dados. Em vermelho, \n",
    "# são os dias que as ações tiveram fechamento em queda e em verde, fechamento em alta."
   ]
  },
  {
   "cell_type": "code",
   "execution_count": 88,
   "metadata": {},
   "outputs": [
    {
     "data": {
      "text/html": [
       "<div>\n",
       "<style scoped>\n",
       "    .dataframe tbody tr th:only-of-type {\n",
       "        vertical-align: middle;\n",
       "    }\n",
       "\n",
       "    .dataframe tbody tr th {\n",
       "        vertical-align: top;\n",
       "    }\n",
       "\n",
       "    .dataframe thead th {\n",
       "        text-align: right;\n",
       "    }\n",
       "</style>\n",
       "<table border=\"1\" class=\"dataframe\">\n",
       "  <thead>\n",
       "    <tr style=\"text-align: right;\">\n",
       "      <th></th>\n",
       "      <th></th>\n",
       "      <th>Fechamento</th>\n",
       "      <th>Abertura</th>\n",
       "      <th>Maior</th>\n",
       "      <th>Menor</th>\n",
       "    </tr>\n",
       "  </thead>\n",
       "  <tbody>\n",
       "    <tr>\n",
       "      <th>0</th>\n",
       "      <td>Max</td>\n",
       "      <td>26.24</td>\n",
       "      <td>26.25</td>\n",
       "      <td>27.07</td>\n",
       "      <td>25.90</td>\n",
       "    </tr>\n",
       "    <tr>\n",
       "      <th>1</th>\n",
       "      <td>Min</td>\n",
       "      <td>5.74</td>\n",
       "      <td>5.71</td>\n",
       "      <td>6.20</td>\n",
       "      <td>5.62</td>\n",
       "    </tr>\n",
       "  </tbody>\n",
       "</table>\n",
       "</div>"
      ],
      "text/plain": [
       "        Fechamento  Abertura  Maior  Menor\n",
       "0  Max       26.24     26.25  27.07  25.90\n",
       "1  Min        5.74      5.71   6.20   5.62"
      ]
     },
     "execution_count": 88,
     "metadata": {},
     "output_type": "execute_result"
    }
   ],
   "source": [
    "maxmin = {'': ['Max', 'Min'],\n",
    "          'Fechamento': [dados.Fechamento.max(), dados.Fechamento.min()],\n",
    "          'Abertura': [dados.Abertura.max(), dados.Abertura.min()],\n",
    "          'Maior': [dados.Maior.max(), dados.Maior.min()],\n",
    "          'Menor': [dados.Menor.max(), dados.Menor.min()]\n",
    "          }\n",
    "maxmin = pd.DataFrame(maxmin)\n",
    "maxmin"
   ]
  },
  {
   "cell_type": "code",
   "execution_count": null,
   "metadata": {},
   "outputs": [],
   "source": [
    "# Podemos ver os máximos e mínimos de abertura, fechamento e maior e menor valor no dia. Podemos\n",
    "# analisar, de cara, uma diferança grande no valor das ações. Como mostrado no gráfico acima, a\n",
    "# enorme queda."
   ]
  }
